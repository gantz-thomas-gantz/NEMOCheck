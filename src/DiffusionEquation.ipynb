{
 "cells": [
  {
   "cell_type": "code",
   "execution_count": 10,
   "id": "976c7dce-739a-4e25-bb8b-08f4f51ff396",
   "metadata": {},
   "outputs": [
    {
     "data": {
      "application/vnd.plotly.v1+json": {
       "config": {
        "plotlyServerURL": "https://plot.ly"
       },
       "data": [
        {
         "line": {
          "color": "gray",
          "dash": "dash"
         },
         "mode": "lines",
         "name": "Initial Condition",
         "type": "scatter",
         "x": {
          "bdata": "AAAAAAAAAAAaJxeSvxWwPxonF5K/FcA/p7oiW58gyD8aJxeSvxXQP+DwnHYvG9Q/p7oiW58g2D9uhKg/DybcPxonF5K/FeA//QtahHcY4j/g8Jx2LxvkP8TV32jnHeY/p7oiW58g6D+Kn2VNVyPqP26EqD8PJuw/UWnrMcco7j8aJxeSvxXwP4yZOIsbF/E//QtahHcY8j9vfnt90xnzP+DwnHYvG/Q/UmO+b4sc9T/E1d9o5x32PzVIAWJDH/c/p7oiW58g+D8ZLURU+yH5P4qfZU1XI/o//BGHRrMk+z9uhKg/Dyb8P9/2yThrJ/0/UWnrMcco/j/C2wwrIyr/PxonF5K/FQBAU+Cnjm2WAECMmTiLGxcBQMRSyYfJlwFA/QtahHcYAkA2xeqAJZkCQG9+e33TGQNAqDcMeoGaA0Dg8Jx2LxsEQBmqLXPdmwRAUmO+b4scBUCLHE9sOZ0FQMTV32jnHQZA/Y5wZZWeBkA1SAFiQx8HQG4Bkl7xnwdAp7oiW58gCEDgc7NXTaEIQBktRFT7IQlAUebUUKmiCUCKn2VNVyMKQMNY9kkFpApA/BGHRrMkC0A1yxdDYaULQG6EqD8PJgxApj05PL2mDEDf9sk4aycNQBiwWjUZqA1AUWnrMccoDkCKInwudakOQMLbDCsjKg9A+5SdJ9GqD0AaJxeSvxUQQLaDX5AWVhBAU+Cnjm2WEEDvPPCMxNYQQIyZOIsbFxFAKPaAiXJXEUDEUsmHyZcRQGGvEYYg2BFA/QtahHcYEkCaaKKCzlgSQDbF6oAlmRJA0iEzf3zZEkBvfnt90xkTQAvbw3sqWhNAqDcMeoGaE0BElFR42NoTQODwnHYvGxRAfU3ldIZbFEAZqi1z3ZsUQLYGdnE03BRAUmO+b4scFUDvvwZu4lwVQIscT2w5nRVAJ3mXapDdFUDE1d9o5x0WQGAyKGc+XhZA/Y5wZZWeFkCZ67hj7N4WQDVIAWJDHxdA0qRJYJpfF0BuAZJe8Z8XQAte2lxI4BdAp7oiW58gGEBDF2tZ9mAYQOBzs1dNoRhAfND7VaThGEA=",
          "dtype": "f8"
         },
         "y": {
          "bdata": "AAAAAAAAAAB5k+AbChOwP+BboV3rCsA/eXoDZRz8xz+WBxz6EdXPP0/pLzfvxtM/GamoSFqP1z+dgSXJ9z/bP1Kpv1wN1d4/USsYPH4l4T9eWnUEI8/iP7wBtf7GZeQ/FCARVc/n5T8WuNIDtlPnP+prW2MLqOg/qPSXm3fj6T+GLmT/uwTrP1rAgU60Cuw/jBXc3Ff07D/lWu+dusDtP/9URBMOb+4/4B4QHaL+7j//CSWs5W7vPwPZgFRnv+8//kPkv9Xv7z8AAAAAAADwP/5D5L/V7+8/AtmAVGe/7z/+CSWs5W7vP+AeEB2i/u4//1REEw5v7j/kWu+dusDtP4sV3NxX9Ow/WMCBTrQK7D+FLmT/uwTrP6j0l5t34+k/6mtbYwuo6D8VuNIDtlPnPxIgEVXP5+U/ugG1/sZl5D9fWnUEI8/iP1ErGDx+JeE/UKm/XA3V3j+ZgSXJ9z/bPxWpqEhaj9c/SukvN+/G0z+XBxz6EdXPP3d6A2Uc/Mc/2luhXesKwD9ok+AbChOwP/3RdebsLLe8d5PgGwoTsL/hW6Fd6wrAv356A2Uc/Me/ngcc+hHVz79V6S8378bTvx+pqEhaj9e/nIElyfc/279Tqb9cDdXev1IrGDx+JeG/YFp1BCPP4r++AbX+xmXkvxQgEVXP5+W/FrjSA7ZT57/ra1tjC6jov6f0l5t34+m/iC5k/7sE679ZwIFOtArsv44V3NxX9Oy/5VrvnbrA7b//VEQTDm/uv+EeEB2i/u6//wklrOVu778D2YBUZ7/vv/5D5L/V7++/AAAAAAAA8L/+Q+S/1e/vvwPZgFRnv++//gklrOVu77/gHhAdov7uvwBVRBMOb+6/41rvnbrA7b+MFdzcV/Tsv1fAgU60Cuy/hS5k/7sE67+k9Jebd+Ppv+hrW2MLqOi/FrjSA7ZT578QIBFVz+flv7sBtf7GZeS/WVp1BCPP4r9OKxg8fiXhv1Kpv1wN1d6/lIElyfc/278XqahIWo/Xv0TpLzfvxtO/iwcc+hHVz797egNlHPzHv89boV3rCsC/cZPgGwoTsL8=",
          "dtype": "f8"
         }
        },
        {
         "mode": "lines",
         "name": "2nd-order Laplacian",
         "type": "scatter",
         "x": {
          "bdata": "AAAAAAAAAAAaJxeSvxWwPxonF5K/FcA/p7oiW58gyD8aJxeSvxXQP+DwnHYvG9Q/p7oiW58g2D9uhKg/DybcPxonF5K/FeA//QtahHcY4j/g8Jx2LxvkP8TV32jnHeY/p7oiW58g6D+Kn2VNVyPqP26EqD8PJuw/UWnrMcco7j8aJxeSvxXwP4yZOIsbF/E//QtahHcY8j9vfnt90xnzP+DwnHYvG/Q/UmO+b4sc9T/E1d9o5x32PzVIAWJDH/c/p7oiW58g+D8ZLURU+yH5P4qfZU1XI/o//BGHRrMk+z9uhKg/Dyb8P9/2yThrJ/0/UWnrMcco/j/C2wwrIyr/PxonF5K/FQBAU+Cnjm2WAECMmTiLGxcBQMRSyYfJlwFA/QtahHcYAkA2xeqAJZkCQG9+e33TGQNAqDcMeoGaA0Dg8Jx2LxsEQBmqLXPdmwRAUmO+b4scBUCLHE9sOZ0FQMTV32jnHQZA/Y5wZZWeBkA1SAFiQx8HQG4Bkl7xnwdAp7oiW58gCEDgc7NXTaEIQBktRFT7IQlAUebUUKmiCUCKn2VNVyMKQMNY9kkFpApA/BGHRrMkC0A1yxdDYaULQG6EqD8PJgxApj05PL2mDEDf9sk4aycNQBiwWjUZqA1AUWnrMccoDkCKInwudakOQMLbDCsjKg9A+5SdJ9GqD0AaJxeSvxUQQLaDX5AWVhBAU+Cnjm2WEEDvPPCMxNYQQIyZOIsbFxFAKPaAiXJXEUDEUsmHyZcRQGGvEYYg2BFA/QtahHcYEkCaaKKCzlgSQDbF6oAlmRJA0iEzf3zZEkBvfnt90xkTQAvbw3sqWhNAqDcMeoGaE0BElFR42NoTQODwnHYvGxRAfU3ldIZbFEAZqi1z3ZsUQLYGdnE03BRAUmO+b4scFUDvvwZu4lwVQIscT2w5nRVAJ3mXapDdFUDE1d9o5x0WQGAyKGc+XhZA/Y5wZZWeFkCZ67hj7N4WQDVIAWJDHxdA0qRJYJpfF0BuAZJe8Z8XQAte2lxI4BdAp7oiW58gGEBDF2tZ9mAYQOBzs1dNoRhAfND7VaThGEA=",
          "dtype": "f8"
         },
         "y": {
          "bdata": "FlH5LdjZWzp5k+AbChOwP+BboV3rCsA/eXoDZRz8xz+WBxz6EdXPP0/pLzfvxtM/GamoSFqP1z+dgSXJ9z/bP1Kpv1wN1d4/USsYPH4l4T9eWnUEI8/iP7wBtf7GZeQ/FCARVc/n5T8WuNIDtlPnP+prW2MLqOg/qPSXm3fj6T+GLmT/uwTrP1rAgU60Cuw/jBXc3Ff07D/lWu+dusDtP/9URBMOb+4/4B4QHaL+7j//CSWs5W7vPwPZgFRnv+8//kPkv9Xv7z8AAAAAAADwP/5D5L/V7+8/AtmAVGe/7z/+CSWs5W7vP+AeEB2i/u4//1REEw5v7j/kWu+dusDtP4sV3NxX9Ow/WMCBTrQK7D+FLmT/uwTrP6j0l5t34+k/6mtbYwuo6D8VuNIDtlPnPxIgEVXP5+U/ugG1/sZl5D9fWnUEI8/iP1ErGDx+JeE/UKm/XA3V3j+ZgSXJ9z/bPxWpqEhaj9c/SukvN+/G0z+XBxz6EdXPP3d6A2Uc/Mc/2luhXesKwD9ok+AbChOwP00kdObsLLe8d5PgGwoTsL/hW6Fd6wrAv356A2Uc/Me/ngcc+hHVz79V6S8378bTvx+pqEhaj9e/nIElyfc/279Tqb9cDdXev1IrGDx+JeG/YFp1BCPP4r++AbX+xmXkvxQgEVXP5+W/FrjSA7ZT57/ra1tjC6jov6f0l5t34+m/iC5k/7sE679ZwIFOtArsv44V3NxX9Oy/5VrvnbrA7b//VEQTDm/uv+EeEB2i/u6//wklrOVu778D2YBUZ7/vv/5D5L/V7++/AAAAAAAA8L/+Q+S/1e/vvwPZgFRnv++//gklrOVu77/gHhAdov7uvwBVRBMOb+6/41rvnbrA7b+MFdzcV/Tsv1fAgU60Cuy/hS5k/7sE67+k9Jebd+Ppv+hrW2MLqOi/FrjSA7ZT578QIBFVz+flv7sBtf7GZeS/WVp1BCPP4r9OKxg8fiXhv1Kpv1wN1d6/lIElyfc/278XqahIWo/Xv0TpLzfvxtO/iwcc+hHVz797egNlHPzHv89boV3rCsC/cZPgGwoTsL8=",
          "dtype": "f8"
         }
        },
        {
         "mode": "lines",
         "name": "4th-order Laplacian",
         "type": "scatter",
         "x": {
          "bdata": "AAAAAAAAAAAaJxeSvxWwPxonF5K/FcA/p7oiW58gyD8aJxeSvxXQP+DwnHYvG9Q/p7oiW58g2D9uhKg/DybcPxonF5K/FeA//QtahHcY4j/g8Jx2LxvkP8TV32jnHeY/p7oiW58g6D+Kn2VNVyPqP26EqD8PJuw/UWnrMcco7j8aJxeSvxXwP4yZOIsbF/E//QtahHcY8j9vfnt90xnzP+DwnHYvG/Q/UmO+b4sc9T/E1d9o5x32PzVIAWJDH/c/p7oiW58g+D8ZLURU+yH5P4qfZU1XI/o//BGHRrMk+z9uhKg/Dyb8P9/2yThrJ/0/UWnrMcco/j/C2wwrIyr/PxonF5K/FQBAU+Cnjm2WAECMmTiLGxcBQMRSyYfJlwFA/QtahHcYAkA2xeqAJZkCQG9+e33TGQNAqDcMeoGaA0Dg8Jx2LxsEQBmqLXPdmwRAUmO+b4scBUCLHE9sOZ0FQMTV32jnHQZA/Y5wZZWeBkA1SAFiQx8HQG4Bkl7xnwdAp7oiW58gCEDgc7NXTaEIQBktRFT7IQlAUebUUKmiCUCKn2VNVyMKQMNY9kkFpApA/BGHRrMkC0A1yxdDYaULQG6EqD8PJgxApj05PL2mDEDf9sk4aycNQBiwWjUZqA1AUWnrMccoDkCKInwudakOQMLbDCsjKg9A+5SdJ9GqD0AaJxeSvxUQQLaDX5AWVhBAU+Cnjm2WEEDvPPCMxNYQQIyZOIsbFxFAKPaAiXJXEUDEUsmHyZcRQGGvEYYg2BFA/QtahHcYEkCaaKKCzlgSQDbF6oAlmRJA0iEzf3zZEkBvfnt90xkTQAvbw3sqWhNAqDcMeoGaE0BElFR42NoTQODwnHYvGxRAfU3ldIZbFEAZqi1z3ZsUQLYGdnE03BRAUmO+b4scFUDvvwZu4lwVQIscT2w5nRVAJ3mXapDdFUDE1d9o5x0WQGAyKGc+XhZA/Y5wZZWeFkCZ67hj7N4WQDVIAWJDHxdA0qRJYJpfF0BuAZJe8Z8XQAte2lxI4BdAp7oiW58gGEBDF2tZ9mAYQOBzs1dNoRhAfND7VaThGEA=",
          "dtype": "f8"
         },
         "y": {
          "bdata": "FlH5LdjZWzp5k+AbChOwP+BboV3rCsA/eXoDZRz8xz+WBxz6EdXPP0/pLzfvxtM/GamoSFqP1z+dgSXJ9z/bP1Kpv1wN1d4/USsYPH4l4T9eWnUEI8/iP7wBtf7GZeQ/FCARVc/n5T8WuNIDtlPnP+prW2MLqOg/qPSXm3fj6T+GLmT/uwTrP1rAgU60Cuw/jBXc3Ff07D/lWu+dusDtP/9URBMOb+4/4B4QHaL+7j//CSWs5W7vPwPZgFRnv+8//kPkv9Xv7z8AAAAAAADwP/5D5L/V7+8/AtmAVGe/7z/+CSWs5W7vP+AeEB2i/u4//1REEw5v7j/kWu+dusDtP4sV3NxX9Ow/WMCBTrQK7D+FLmT/uwTrP6j0l5t34+k/6mtbYwuo6D8VuNIDtlPnPxIgEVXP5+U/ugG1/sZl5D9fWnUEI8/iP1ErGDx+JeE/UKm/XA3V3j+ZgSXJ9z/bPxWpqEhaj9c/SukvN+/G0z+XBxz6EdXPP3d6A2Uc/Mc/2luhXesKwD9ok+AbChOwPx2vc+bsLLe8d5PgGwoTsL/hW6Fd6wrAv356A2Uc/Me/ngcc+hHVz79V6S8378bTvx+pqEhaj9e/nIElyfc/279Tqb9cDdXev1IrGDx+JeG/YFp1BCPP4r++AbX+xmXkvxQgEVXP5+W/FrjSA7ZT57/ra1tjC6jov6f0l5t34+m/iC5k/7sE679ZwIFOtArsv44V3NxX9Oy/5VrvnbrA7b//VEQTDm/uv+EeEB2i/u6//wklrOVu778D2YBUZ7/vv/5D5L/V7++/AAAAAAAA8L/+Q+S/1e/vvwPZgFRnv++//gklrOVu77/gHhAdov7uvwBVRBMOb+6/41rvnbrA7b+MFdzcV/Tsv1fAgU60Cuy/hS5k/7sE67+k9Jebd+Ppv+hrW2MLqOi/FrjSA7ZT578QIBFVz+flv7sBtf7GZeS/WVp1BCPP4r9OKxg8fiXhv1Kpv1wN1d6/lIElyfc/278XqahIWo/Xv0TpLzfvxtO/iwcc+hHVz797egNlHPzHv89boV3rCsC/cZPgGwoTsL8=",
          "dtype": "f8"
         }
        },
        {
         "mode": "lines",
         "name": "Bilaplacian",
         "type": "scatter",
         "x": {
          "bdata": "AAAAAAAAAAAaJxeSvxWwPxonF5K/FcA/p7oiW58gyD8aJxeSvxXQP+DwnHYvG9Q/p7oiW58g2D9uhKg/DybcPxonF5K/FeA//QtahHcY4j/g8Jx2LxvkP8TV32jnHeY/p7oiW58g6D+Kn2VNVyPqP26EqD8PJuw/UWnrMcco7j8aJxeSvxXwP4yZOIsbF/E//QtahHcY8j9vfnt90xnzP+DwnHYvG/Q/UmO+b4sc9T/E1d9o5x32PzVIAWJDH/c/p7oiW58g+D8ZLURU+yH5P4qfZU1XI/o//BGHRrMk+z9uhKg/Dyb8P9/2yThrJ/0/UWnrMcco/j/C2wwrIyr/PxonF5K/FQBAU+Cnjm2WAECMmTiLGxcBQMRSyYfJlwFA/QtahHcYAkA2xeqAJZkCQG9+e33TGQNAqDcMeoGaA0Dg8Jx2LxsEQBmqLXPdmwRAUmO+b4scBUCLHE9sOZ0FQMTV32jnHQZA/Y5wZZWeBkA1SAFiQx8HQG4Bkl7xnwdAp7oiW58gCEDgc7NXTaEIQBktRFT7IQlAUebUUKmiCUCKn2VNVyMKQMNY9kkFpApA/BGHRrMkC0A1yxdDYaULQG6EqD8PJgxApj05PL2mDEDf9sk4aycNQBiwWjUZqA1AUWnrMccoDkCKInwudakOQMLbDCsjKg9A+5SdJ9GqD0AaJxeSvxUQQLaDX5AWVhBAU+Cnjm2WEEDvPPCMxNYQQIyZOIsbFxFAKPaAiXJXEUDEUsmHyZcRQGGvEYYg2BFA/QtahHcYEkCaaKKCzlgSQDbF6oAlmRJA0iEzf3zZEkBvfnt90xkTQAvbw3sqWhNAqDcMeoGaE0BElFR42NoTQODwnHYvGxRAfU3ldIZbFEAZqi1z3ZsUQLYGdnE03BRAUmO+b4scFUDvvwZu4lwVQIscT2w5nRVAJ3mXapDdFUDE1d9o5x0WQGAyKGc+XhZA/Y5wZZWeFkCZ67hj7N4WQDVIAWJDHxdA0qRJYJpfF0BuAZJe8Z8XQAte2lxI4BdAp7oiW58gGEBDF2tZ9mAYQOBzs1dNoRhAfND7VaThGEA=",
          "dtype": "f8"
         },
         "y": {
          "bdata": "ImSGkTeUuzp5k+AbChOwP+BboV3rCsA/eXoDZRz8xz+WBxz6EdXPP0/pLzfvxtM/GamoSFqP1z+dgSXJ9z/bP1Kpv1wN1d4/USsYPH4l4T9eWnUEI8/iP7wBtf7GZeQ/FCARVc/n5T8WuNIDtlPnP+prW2MLqOg/qPSXm3fj6T+GLmT/uwTrP1rAgU60Cuw/jBXc3Ff07D/lWu+dusDtP/9URBMOb+4/4B4QHaL+7j//CSWs5W7vPwPZgFRnv+8//kPkv9Xv7z8AAAAAAADwP/5D5L/V7+8/AtmAVGe/7z/+CSWs5W7vP+AeEB2i/u4//1REEw5v7j/kWu+dusDtP4sV3NxX9Ow/WMCBTrQK7D+FLmT/uwTrP6j0l5t34+k/6mtbYwuo6D8VuNIDtlPnPxIgEVXP5+U/ugG1/sZl5D9fWnUEI8/iP1ErGDx+JeE/UKm/XA3V3j+ZgSXJ9z/bPxWpqEhaj9c/SukvN+/G0z+XBxz6EdXPP3d6A2Uc/Mc/2luhXesKwD9ok+AbChOwP92xeevsLLe8d5PgGwoTsL/hW6Fd6wrAv356A2Uc/Me/ngcc+hHVz79V6S8378bTvx+pqEhaj9e/nIElyfc/279Tqb9cDdXev1IrGDx+JeG/YFp1BCPP4r++AbX+xmXkvxQgEVXP5+W/FrjSA7ZT57/ra1tjC6jov6f0l5t34+m/iC5k/7sE679ZwIFOtArsv44V3NxX9Oy/5VrvnbrA7b//VEQTDm/uv+EeEB2i/u6//wklrOVu778D2YBUZ7/vv/5D5L/V7++/AAAAAAAA8L/+Q+S/1e/vvwPZgFRnv++//gklrOVu77/gHhAdov7uvwBVRBMOb+6/41rvnbrA7b+MFdzcV/Tsv1fAgU60Cuy/hS5k/7sE67+k9Jebd+Ppv+hrW2MLqOi/FrjSA7ZT578QIBFVz+flv7sBtf7GZeS/WVp1BCPP4r9OKxg8fiXhv1Kpv1wN1d6/lIElyfc/278XqahIWo/Xv0TpLzfvxtO/iwcc+hHVz797egNlHPzHv89boV3rCsC/cZPgGwoTsL8=",
          "dtype": "f8"
         }
        }
       ],
       "layout": {
        "legend": {
         "title": {
          "text": "Scheme"
         }
        },
        "template": {
         "data": {
          "bar": [
           {
            "error_x": {
             "color": "#2a3f5f"
            },
            "error_y": {
             "color": "#2a3f5f"
            },
            "marker": {
             "line": {
              "color": "white",
              "width": 0.5
             },
             "pattern": {
              "fillmode": "overlay",
              "size": 10,
              "solidity": 0.2
             }
            },
            "type": "bar"
           }
          ],
          "barpolar": [
           {
            "marker": {
             "line": {
              "color": "white",
              "width": 0.5
             },
             "pattern": {
              "fillmode": "overlay",
              "size": 10,
              "solidity": 0.2
             }
            },
            "type": "barpolar"
           }
          ],
          "carpet": [
           {
            "aaxis": {
             "endlinecolor": "#2a3f5f",
             "gridcolor": "#C8D4E3",
             "linecolor": "#C8D4E3",
             "minorgridcolor": "#C8D4E3",
             "startlinecolor": "#2a3f5f"
            },
            "baxis": {
             "endlinecolor": "#2a3f5f",
             "gridcolor": "#C8D4E3",
             "linecolor": "#C8D4E3",
             "minorgridcolor": "#C8D4E3",
             "startlinecolor": "#2a3f5f"
            },
            "type": "carpet"
           }
          ],
          "choropleth": [
           {
            "colorbar": {
             "outlinewidth": 0,
             "ticks": ""
            },
            "type": "choropleth"
           }
          ],
          "contour": [
           {
            "colorbar": {
             "outlinewidth": 0,
             "ticks": ""
            },
            "colorscale": [
             [
              0,
              "#0d0887"
             ],
             [
              0.1111111111111111,
              "#46039f"
             ],
             [
              0.2222222222222222,
              "#7201a8"
             ],
             [
              0.3333333333333333,
              "#9c179e"
             ],
             [
              0.4444444444444444,
              "#bd3786"
             ],
             [
              0.5555555555555556,
              "#d8576b"
             ],
             [
              0.6666666666666666,
              "#ed7953"
             ],
             [
              0.7777777777777778,
              "#fb9f3a"
             ],
             [
              0.8888888888888888,
              "#fdca26"
             ],
             [
              1,
              "#f0f921"
             ]
            ],
            "type": "contour"
           }
          ],
          "contourcarpet": [
           {
            "colorbar": {
             "outlinewidth": 0,
             "ticks": ""
            },
            "type": "contourcarpet"
           }
          ],
          "heatmap": [
           {
            "colorbar": {
             "outlinewidth": 0,
             "ticks": ""
            },
            "colorscale": [
             [
              0,
              "#0d0887"
             ],
             [
              0.1111111111111111,
              "#46039f"
             ],
             [
              0.2222222222222222,
              "#7201a8"
             ],
             [
              0.3333333333333333,
              "#9c179e"
             ],
             [
              0.4444444444444444,
              "#bd3786"
             ],
             [
              0.5555555555555556,
              "#d8576b"
             ],
             [
              0.6666666666666666,
              "#ed7953"
             ],
             [
              0.7777777777777778,
              "#fb9f3a"
             ],
             [
              0.8888888888888888,
              "#fdca26"
             ],
             [
              1,
              "#f0f921"
             ]
            ],
            "type": "heatmap"
           }
          ],
          "histogram": [
           {
            "marker": {
             "pattern": {
              "fillmode": "overlay",
              "size": 10,
              "solidity": 0.2
             }
            },
            "type": "histogram"
           }
          ],
          "histogram2d": [
           {
            "colorbar": {
             "outlinewidth": 0,
             "ticks": ""
            },
            "colorscale": [
             [
              0,
              "#0d0887"
             ],
             [
              0.1111111111111111,
              "#46039f"
             ],
             [
              0.2222222222222222,
              "#7201a8"
             ],
             [
              0.3333333333333333,
              "#9c179e"
             ],
             [
              0.4444444444444444,
              "#bd3786"
             ],
             [
              0.5555555555555556,
              "#d8576b"
             ],
             [
              0.6666666666666666,
              "#ed7953"
             ],
             [
              0.7777777777777778,
              "#fb9f3a"
             ],
             [
              0.8888888888888888,
              "#fdca26"
             ],
             [
              1,
              "#f0f921"
             ]
            ],
            "type": "histogram2d"
           }
          ],
          "histogram2dcontour": [
           {
            "colorbar": {
             "outlinewidth": 0,
             "ticks": ""
            },
            "colorscale": [
             [
              0,
              "#0d0887"
             ],
             [
              0.1111111111111111,
              "#46039f"
             ],
             [
              0.2222222222222222,
              "#7201a8"
             ],
             [
              0.3333333333333333,
              "#9c179e"
             ],
             [
              0.4444444444444444,
              "#bd3786"
             ],
             [
              0.5555555555555556,
              "#d8576b"
             ],
             [
              0.6666666666666666,
              "#ed7953"
             ],
             [
              0.7777777777777778,
              "#fb9f3a"
             ],
             [
              0.8888888888888888,
              "#fdca26"
             ],
             [
              1,
              "#f0f921"
             ]
            ],
            "type": "histogram2dcontour"
           }
          ],
          "mesh3d": [
           {
            "colorbar": {
             "outlinewidth": 0,
             "ticks": ""
            },
            "type": "mesh3d"
           }
          ],
          "parcoords": [
           {
            "line": {
             "colorbar": {
              "outlinewidth": 0,
              "ticks": ""
             }
            },
            "type": "parcoords"
           }
          ],
          "pie": [
           {
            "automargin": true,
            "type": "pie"
           }
          ],
          "scatter": [
           {
            "fillpattern": {
             "fillmode": "overlay",
             "size": 10,
             "solidity": 0.2
            },
            "type": "scatter"
           }
          ],
          "scatter3d": [
           {
            "line": {
             "colorbar": {
              "outlinewidth": 0,
              "ticks": ""
             }
            },
            "marker": {
             "colorbar": {
              "outlinewidth": 0,
              "ticks": ""
             }
            },
            "type": "scatter3d"
           }
          ],
          "scattercarpet": [
           {
            "marker": {
             "colorbar": {
              "outlinewidth": 0,
              "ticks": ""
             }
            },
            "type": "scattercarpet"
           }
          ],
          "scattergeo": [
           {
            "marker": {
             "colorbar": {
              "outlinewidth": 0,
              "ticks": ""
             }
            },
            "type": "scattergeo"
           }
          ],
          "scattergl": [
           {
            "marker": {
             "colorbar": {
              "outlinewidth": 0,
              "ticks": ""
             }
            },
            "type": "scattergl"
           }
          ],
          "scattermap": [
           {
            "marker": {
             "colorbar": {
              "outlinewidth": 0,
              "ticks": ""
             }
            },
            "type": "scattermap"
           }
          ],
          "scattermapbox": [
           {
            "marker": {
             "colorbar": {
              "outlinewidth": 0,
              "ticks": ""
             }
            },
            "type": "scattermapbox"
           }
          ],
          "scatterpolar": [
           {
            "marker": {
             "colorbar": {
              "outlinewidth": 0,
              "ticks": ""
             }
            },
            "type": "scatterpolar"
           }
          ],
          "scatterpolargl": [
           {
            "marker": {
             "colorbar": {
              "outlinewidth": 0,
              "ticks": ""
             }
            },
            "type": "scatterpolargl"
           }
          ],
          "scatterternary": [
           {
            "marker": {
             "colorbar": {
              "outlinewidth": 0,
              "ticks": ""
             }
            },
            "type": "scatterternary"
           }
          ],
          "surface": [
           {
            "colorbar": {
             "outlinewidth": 0,
             "ticks": ""
            },
            "colorscale": [
             [
              0,
              "#0d0887"
             ],
             [
              0.1111111111111111,
              "#46039f"
             ],
             [
              0.2222222222222222,
              "#7201a8"
             ],
             [
              0.3333333333333333,
              "#9c179e"
             ],
             [
              0.4444444444444444,
              "#bd3786"
             ],
             [
              0.5555555555555556,
              "#d8576b"
             ],
             [
              0.6666666666666666,
              "#ed7953"
             ],
             [
              0.7777777777777778,
              "#fb9f3a"
             ],
             [
              0.8888888888888888,
              "#fdca26"
             ],
             [
              1,
              "#f0f921"
             ]
            ],
            "type": "surface"
           }
          ],
          "table": [
           {
            "cells": {
             "fill": {
              "color": "#EBF0F8"
             },
             "line": {
              "color": "white"
             }
            },
            "header": {
             "fill": {
              "color": "#C8D4E3"
             },
             "line": {
              "color": "white"
             }
            },
            "type": "table"
           }
          ]
         },
         "layout": {
          "annotationdefaults": {
           "arrowcolor": "#2a3f5f",
           "arrowhead": 0,
           "arrowwidth": 1
          },
          "autotypenumbers": "strict",
          "coloraxis": {
           "colorbar": {
            "outlinewidth": 0,
            "ticks": ""
           }
          },
          "colorscale": {
           "diverging": [
            [
             0,
             "#8e0152"
            ],
            [
             0.1,
             "#c51b7d"
            ],
            [
             0.2,
             "#de77ae"
            ],
            [
             0.3,
             "#f1b6da"
            ],
            [
             0.4,
             "#fde0ef"
            ],
            [
             0.5,
             "#f7f7f7"
            ],
            [
             0.6,
             "#e6f5d0"
            ],
            [
             0.7,
             "#b8e186"
            ],
            [
             0.8,
             "#7fbc41"
            ],
            [
             0.9,
             "#4d9221"
            ],
            [
             1,
             "#276419"
            ]
           ],
           "sequential": [
            [
             0,
             "#0d0887"
            ],
            [
             0.1111111111111111,
             "#46039f"
            ],
            [
             0.2222222222222222,
             "#7201a8"
            ],
            [
             0.3333333333333333,
             "#9c179e"
            ],
            [
             0.4444444444444444,
             "#bd3786"
            ],
            [
             0.5555555555555556,
             "#d8576b"
            ],
            [
             0.6666666666666666,
             "#ed7953"
            ],
            [
             0.7777777777777778,
             "#fb9f3a"
            ],
            [
             0.8888888888888888,
             "#fdca26"
            ],
            [
             1,
             "#f0f921"
            ]
           ],
           "sequentialminus": [
            [
             0,
             "#0d0887"
            ],
            [
             0.1111111111111111,
             "#46039f"
            ],
            [
             0.2222222222222222,
             "#7201a8"
            ],
            [
             0.3333333333333333,
             "#9c179e"
            ],
            [
             0.4444444444444444,
             "#bd3786"
            ],
            [
             0.5555555555555556,
             "#d8576b"
            ],
            [
             0.6666666666666666,
             "#ed7953"
            ],
            [
             0.7777777777777778,
             "#fb9f3a"
            ],
            [
             0.8888888888888888,
             "#fdca26"
            ],
            [
             1,
             "#f0f921"
            ]
           ]
          },
          "colorway": [
           "#636efa",
           "#EF553B",
           "#00cc96",
           "#ab63fa",
           "#FFA15A",
           "#19d3f3",
           "#FF6692",
           "#B6E880",
           "#FF97FF",
           "#FECB52"
          ],
          "font": {
           "color": "#2a3f5f"
          },
          "geo": {
           "bgcolor": "white",
           "lakecolor": "white",
           "landcolor": "white",
           "showlakes": true,
           "showland": true,
           "subunitcolor": "#C8D4E3"
          },
          "hoverlabel": {
           "align": "left"
          },
          "hovermode": "closest",
          "mapbox": {
           "style": "light"
          },
          "paper_bgcolor": "white",
          "plot_bgcolor": "white",
          "polar": {
           "angularaxis": {
            "gridcolor": "#EBF0F8",
            "linecolor": "#EBF0F8",
            "ticks": ""
           },
           "bgcolor": "white",
           "radialaxis": {
            "gridcolor": "#EBF0F8",
            "linecolor": "#EBF0F8",
            "ticks": ""
           }
          },
          "scene": {
           "xaxis": {
            "backgroundcolor": "white",
            "gridcolor": "#DFE8F3",
            "gridwidth": 2,
            "linecolor": "#EBF0F8",
            "showbackground": true,
            "ticks": "",
            "zerolinecolor": "#EBF0F8"
           },
           "yaxis": {
            "backgroundcolor": "white",
            "gridcolor": "#DFE8F3",
            "gridwidth": 2,
            "linecolor": "#EBF0F8",
            "showbackground": true,
            "ticks": "",
            "zerolinecolor": "#EBF0F8"
           },
           "zaxis": {
            "backgroundcolor": "white",
            "gridcolor": "#DFE8F3",
            "gridwidth": 2,
            "linecolor": "#EBF0F8",
            "showbackground": true,
            "ticks": "",
            "zerolinecolor": "#EBF0F8"
           }
          },
          "shapedefaults": {
           "line": {
            "color": "#2a3f5f"
           }
          },
          "ternary": {
           "aaxis": {
            "gridcolor": "#DFE8F3",
            "linecolor": "#A2B1C6",
            "ticks": ""
           },
           "baxis": {
            "gridcolor": "#DFE8F3",
            "linecolor": "#A2B1C6",
            "ticks": ""
           },
           "bgcolor": "white",
           "caxis": {
            "gridcolor": "#DFE8F3",
            "linecolor": "#A2B1C6",
            "ticks": ""
           }
          },
          "title": {
           "x": 0.05
          },
          "xaxis": {
           "automargin": true,
           "gridcolor": "#EBF0F8",
           "linecolor": "#EBF0F8",
           "ticks": "",
           "title": {
            "standoff": 15
           },
           "zerolinecolor": "#EBF0F8",
           "zerolinewidth": 2
          },
          "yaxis": {
           "automargin": true,
           "gridcolor": "#EBF0F8",
           "linecolor": "#EBF0F8",
           "ticks": "",
           "title": {
            "standoff": 15
           },
           "zerolinecolor": "#EBF0F8",
           "zerolinewidth": 2
          }
         }
        },
        "title": {
         "text": "Diffusion Equation: Comparison of Laplacian Operators"
        },
        "xaxis": {
         "title": {
          "text": "x"
         }
        },
        "yaxis": {
         "title": {
          "text": "T(x)"
         }
        }
       }
      },
      "image/png": "[encoded data removed]"
     },
     "metadata": {},
     "output_type": "display_data"
    },
    {
     "data": {
      "application/vnd.plotly.v1+json": {
       "config": {
        "plotlyServerURL": "https://plot.ly"
       },
       "data": [
        {
         "mode": "markers+lines",
         "name": "2nd-order",
         "type": "scatter",
         "x": [
          0.19634954084936207,
          0.09817477042468103,
          0.04908738521234052,
          0.02454369260617026,
          0.01227184630308513,
          0.006135923151542565
         ],
         "y": [
          0.19202236525316219,
          0.09494918356659396,
          0.04599971756445155,
          0.021473271759945903,
          0.009203581522754028,
          0.003067927886187933
         ]
        },
        {
         "mode": "markers+lines",
         "name": "4th-order",
         "type": "scatter",
         "x": [
          0.19634954084936207,
          0.09817477042468103,
          0.04908738521234052,
          0.02454369260617026,
          0.01227184630308513,
          0.006135923151542565
         ],
         "y": [
          0.19202236525316219,
          0.09494918356659396,
          0.04599971756445155,
          0.021473271759945903,
          0.009203581522754028,
          0.003067927886187933
         ]
        },
        {
         "mode": "markers+lines",
         "name": "Bilaplacian",
         "type": "scatter",
         "x": [
          0.19634954084936207,
          0.09817477042468103,
          0.04908738521234052,
          0.02454369260617026,
          0.01227184630308513,
          0.006135923151542565
         ],
         "y": [
          0.19202236525316219,
          0.09494918356659396,
          0.04599971756445155,
          0.021473271759945903,
          0.009203581522754028,
          0.003067927886187933
         ]
        },
        {
         "line": {
          "color": "gray",
          "dash": "dash"
         },
         "mode": "lines",
         "name": "1st order",
         "type": "scatter",
         "x": {
          "bdata": "GC1EVPshyT8YLURU+yG5PxgtRFT7Iak/GC1EVPshmT8YLURU+yGJPxgtRFT7IXk/",
          "dtype": "f8"
         },
         "y": {
          "bdata": "dHNuWTCUyD90c25ZMJS4P3RzblkwlKg/dHNuWTCUmD90c25ZMJSIP3RzblkwlHg/",
          "dtype": "f8"
         }
        },
        {
         "line": {
          "color": "gray",
          "dash": "dot"
         },
         "mode": "lines",
         "name": "2nd order",
         "type": "scatter",
         "x": {
          "bdata": "GC1EVPshyT8YLURU+yG5PxgtRFT7Iak/GC1EVPshmT8YLURU+yGJPxgtRFT7IXk/",
          "dtype": "f8"
         },
         "y": {
          "bdata": "dHNuWTCUyD90c25ZMJSoP3RzblkwlIg/dHNuWTCUaD90c25ZMJRIP3RzblkwlCg/",
          "dtype": "f8"
         }
        },
        {
         "line": {
          "color": "gray",
          "dash": "dashdot"
         },
         "mode": "lines",
         "name": "3rd order",
         "type": "scatter",
         "x": {
          "bdata": "GC1EVPshyT8YLURU+yG5PxgtRFT7Iak/GC1EVPshmT8YLURU+yGJPxgtRFT7IXk/",
          "dtype": "f8"
         },
         "y": {
          "bdata": "dHNuWTCUyD90c25ZMJSYP3RzblkwlGg/dHNuWTCUOD90c25ZMJQIP3RzblkwlNg+",
          "dtype": "f8"
         }
        }
       ],
       "layout": {
        "legend": {
         "title": {
          "text": "Operator"
         }
        },
        "template": {
         "data": {
          "bar": [
           {
            "error_x": {
             "color": "#2a3f5f"
            },
            "error_y": {
             "color": "#2a3f5f"
            },
            "marker": {
             "line": {
              "color": "white",
              "width": 0.5
             },
             "pattern": {
              "fillmode": "overlay",
              "size": 10,
              "solidity": 0.2
             }
            },
            "type": "bar"
           }
          ],
          "barpolar": [
           {
            "marker": {
             "line": {
              "color": "white",
              "width": 0.5
             },
             "pattern": {
              "fillmode": "overlay",
              "size": 10,
              "solidity": 0.2
             }
            },
            "type": "barpolar"
           }
          ],
          "carpet": [
           {
            "aaxis": {
             "endlinecolor": "#2a3f5f",
             "gridcolor": "#C8D4E3",
             "linecolor": "#C8D4E3",
             "minorgridcolor": "#C8D4E3",
             "startlinecolor": "#2a3f5f"
            },
            "baxis": {
             "endlinecolor": "#2a3f5f",
             "gridcolor": "#C8D4E3",
             "linecolor": "#C8D4E3",
             "minorgridcolor": "#C8D4E3",
             "startlinecolor": "#2a3f5f"
            },
            "type": "carpet"
           }
          ],
          "choropleth": [
           {
            "colorbar": {
             "outlinewidth": 0,
             "ticks": ""
            },
            "type": "choropleth"
           }
          ],
          "contour": [
           {
            "colorbar": {
             "outlinewidth": 0,
             "ticks": ""
            },
            "colorscale": [
             [
              0,
              "#0d0887"
             ],
             [
              0.1111111111111111,
              "#46039f"
             ],
             [
              0.2222222222222222,
              "#7201a8"
             ],
             [
              0.3333333333333333,
              "#9c179e"
             ],
             [
              0.4444444444444444,
              "#bd3786"
             ],
             [
              0.5555555555555556,
              "#d8576b"
             ],
             [
              0.6666666666666666,
              "#ed7953"
             ],
             [
              0.7777777777777778,
              "#fb9f3a"
             ],
             [
              0.8888888888888888,
              "#fdca26"
             ],
             [
              1,
              "#f0f921"
             ]
            ],
            "type": "contour"
           }
          ],
          "contourcarpet": [
           {
            "colorbar": {
             "outlinewidth": 0,
             "ticks": ""
            },
            "type": "contourcarpet"
           }
          ],
          "heatmap": [
           {
            "colorbar": {
             "outlinewidth": 0,
             "ticks": ""
            },
            "colorscale": [
             [
              0,
              "#0d0887"
             ],
             [
              0.1111111111111111,
              "#46039f"
             ],
             [
              0.2222222222222222,
              "#7201a8"
             ],
             [
              0.3333333333333333,
              "#9c179e"
             ],
             [
              0.4444444444444444,
              "#bd3786"
             ],
             [
              0.5555555555555556,
              "#d8576b"
             ],
             [
              0.6666666666666666,
              "#ed7953"
             ],
             [
              0.7777777777777778,
              "#fb9f3a"
             ],
             [
              0.8888888888888888,
              "#fdca26"
             ],
             [
              1,
              "#f0f921"
             ]
            ],
            "type": "heatmap"
           }
          ],
          "histogram": [
           {
            "marker": {
             "pattern": {
              "fillmode": "overlay",
              "size": 10,
              "solidity": 0.2
             }
            },
            "type": "histogram"
           }
          ],
          "histogram2d": [
           {
            "colorbar": {
             "outlinewidth": 0,
             "ticks": ""
            },
            "colorscale": [
             [
              0,
              "#0d0887"
             ],
             [
              0.1111111111111111,
              "#46039f"
             ],
             [
              0.2222222222222222,
              "#7201a8"
             ],
             [
              0.3333333333333333,
              "#9c179e"
             ],
             [
              0.4444444444444444,
              "#bd3786"
             ],
             [
              0.5555555555555556,
              "#d8576b"
             ],
             [
              0.6666666666666666,
              "#ed7953"
             ],
             [
              0.7777777777777778,
              "#fb9f3a"
             ],
             [
              0.8888888888888888,
              "#fdca26"
             ],
             [
              1,
              "#f0f921"
             ]
            ],
            "type": "histogram2d"
           }
          ],
          "histogram2dcontour": [
           {
            "colorbar": {
             "outlinewidth": 0,
             "ticks": ""
            },
            "colorscale": [
             [
              0,
              "#0d0887"
             ],
             [
              0.1111111111111111,
              "#46039f"
             ],
             [
              0.2222222222222222,
              "#7201a8"
             ],
             [
              0.3333333333333333,
              "#9c179e"
             ],
             [
              0.4444444444444444,
              "#bd3786"
             ],
             [
              0.5555555555555556,
              "#d8576b"
             ],
             [
              0.6666666666666666,
              "#ed7953"
             ],
             [
              0.7777777777777778,
              "#fb9f3a"
             ],
             [
              0.8888888888888888,
              "#fdca26"
             ],
             [
              1,
              "#f0f921"
             ]
            ],
            "type": "histogram2dcontour"
           }
          ],
          "mesh3d": [
           {
            "colorbar": {
             "outlinewidth": 0,
             "ticks": ""
            },
            "type": "mesh3d"
           }
          ],
          "parcoords": [
           {
            "line": {
             "colorbar": {
              "outlinewidth": 0,
              "ticks": ""
             }
            },
            "type": "parcoords"
           }
          ],
          "pie": [
           {
            "automargin": true,
            "type": "pie"
           }
          ],
          "scatter": [
           {
            "fillpattern": {
             "fillmode": "overlay",
             "size": 10,
             "solidity": 0.2
            },
            "type": "scatter"
           }
          ],
          "scatter3d": [
           {
            "line": {
             "colorbar": {
              "outlinewidth": 0,
              "ticks": ""
             }
            },
            "marker": {
             "colorbar": {
              "outlinewidth": 0,
              "ticks": ""
             }
            },
            "type": "scatter3d"
           }
          ],
          "scattercarpet": [
           {
            "marker": {
             "colorbar": {
              "outlinewidth": 0,
              "ticks": ""
             }
            },
            "type": "scattercarpet"
           }
          ],
          "scattergeo": [
           {
            "marker": {
             "colorbar": {
              "outlinewidth": 0,
              "ticks": ""
             }
            },
            "type": "scattergeo"
           }
          ],
          "scattergl": [
           {
            "marker": {
             "colorbar": {
              "outlinewidth": 0,
              "ticks": ""
             }
            },
            "type": "scattergl"
           }
          ],
          "scattermap": [
           {
            "marker": {
             "colorbar": {
              "outlinewidth": 0,
              "ticks": ""
             }
            },
            "type": "scattermap"
           }
          ],
          "scattermapbox": [
           {
            "marker": {
             "colorbar": {
              "outlinewidth": 0,
              "ticks": ""
             }
            },
            "type": "scattermapbox"
           }
          ],
          "scatterpolar": [
           {
            "marker": {
             "colorbar": {
              "outlinewidth": 0,
              "ticks": ""
             }
            },
            "type": "scatterpolar"
           }
          ],
          "scatterpolargl": [
           {
            "marker": {
             "colorbar": {
              "outlinewidth": 0,
              "ticks": ""
             }
            },
            "type": "scatterpolargl"
           }
          ],
          "scatterternary": [
           {
            "marker": {
             "colorbar": {
              "outlinewidth": 0,
              "ticks": ""
             }
            },
            "type": "scatterternary"
           }
          ],
          "surface": [
           {
            "colorbar": {
             "outlinewidth": 0,
             "ticks": ""
            },
            "colorscale": [
             [
              0,
              "#0d0887"
             ],
             [
              0.1111111111111111,
              "#46039f"
             ],
             [
              0.2222222222222222,
              "#7201a8"
             ],
             [
              0.3333333333333333,
              "#9c179e"
             ],
             [
              0.4444444444444444,
              "#bd3786"
             ],
             [
              0.5555555555555556,
              "#d8576b"
             ],
             [
              0.6666666666666666,
              "#ed7953"
             ],
             [
              0.7777777777777778,
              "#fb9f3a"
             ],
             [
              0.8888888888888888,
              "#fdca26"
             ],
             [
              1,
              "#f0f921"
             ]
            ],
            "type": "surface"
           }
          ],
          "table": [
           {
            "cells": {
             "fill": {
              "color": "#EBF0F8"
             },
             "line": {
              "color": "white"
             }
            },
            "header": {
             "fill": {
              "color": "#C8D4E3"
             },
             "line": {
              "color": "white"
             }
            },
            "type": "table"
           }
          ]
         },
         "layout": {
          "annotationdefaults": {
           "arrowcolor": "#2a3f5f",
           "arrowhead": 0,
           "arrowwidth": 1
          },
          "autotypenumbers": "strict",
          "coloraxis": {
           "colorbar": {
            "outlinewidth": 0,
            "ticks": ""
           }
          },
          "colorscale": {
           "diverging": [
            [
             0,
             "#8e0152"
            ],
            [
             0.1,
             "#c51b7d"
            ],
            [
             0.2,
             "#de77ae"
            ],
            [
             0.3,
             "#f1b6da"
            ],
            [
             0.4,
             "#fde0ef"
            ],
            [
             0.5,
             "#f7f7f7"
            ],
            [
             0.6,
             "#e6f5d0"
            ],
            [
             0.7,
             "#b8e186"
            ],
            [
             0.8,
             "#7fbc41"
            ],
            [
             0.9,
             "#4d9221"
            ],
            [
             1,
             "#276419"
            ]
           ],
           "sequential": [
            [
             0,
             "#0d0887"
            ],
            [
             0.1111111111111111,
             "#46039f"
            ],
            [
             0.2222222222222222,
             "#7201a8"
            ],
            [
             0.3333333333333333,
             "#9c179e"
            ],
            [
             0.4444444444444444,
             "#bd3786"
            ],
            [
             0.5555555555555556,
             "#d8576b"
            ],
            [
             0.6666666666666666,
             "#ed7953"
            ],
            [
             0.7777777777777778,
             "#fb9f3a"
            ],
            [
             0.8888888888888888,
             "#fdca26"
            ],
            [
             1,
             "#f0f921"
            ]
           ],
           "sequentialminus": [
            [
             0,
             "#0d0887"
            ],
            [
             0.1111111111111111,
             "#46039f"
            ],
            [
             0.2222222222222222,
             "#7201a8"
            ],
            [
             0.3333333333333333,
             "#9c179e"
            ],
            [
             0.4444444444444444,
             "#bd3786"
            ],
            [
             0.5555555555555556,
             "#d8576b"
            ],
            [
             0.6666666666666666,
             "#ed7953"
            ],
            [
             0.7777777777777778,
             "#fb9f3a"
            ],
            [
             0.8888888888888888,
             "#fdca26"
            ],
            [
             1,
             "#f0f921"
            ]
           ]
          },
          "colorway": [
           "#636efa",
           "#EF553B",
           "#00cc96",
           "#ab63fa",
           "#FFA15A",
           "#19d3f3",
           "#FF6692",
           "#B6E880",
           "#FF97FF",
           "#FECB52"
          ],
          "font": {
           "color": "#2a3f5f"
          },
          "geo": {
           "bgcolor": "white",
           "lakecolor": "white",
           "landcolor": "white",
           "showlakes": true,
           "showland": true,
           "subunitcolor": "#C8D4E3"
          },
          "hoverlabel": {
           "align": "left"
          },
          "hovermode": "closest",
          "mapbox": {
           "style": "light"
          },
          "paper_bgcolor": "white",
          "plot_bgcolor": "white",
          "polar": {
           "angularaxis": {
            "gridcolor": "#EBF0F8",
            "linecolor": "#EBF0F8",
            "ticks": ""
           },
           "bgcolor": "white",
           "radialaxis": {
            "gridcolor": "#EBF0F8",
            "linecolor": "#EBF0F8",
            "ticks": ""
           }
          },
          "scene": {
           "xaxis": {
            "backgroundcolor": "white",
            "gridcolor": "#DFE8F3",
            "gridwidth": 2,
            "linecolor": "#EBF0F8",
            "showbackground": true,
            "ticks": "",
            "zerolinecolor": "#EBF0F8"
           },
           "yaxis": {
            "backgroundcolor": "white",
            "gridcolor": "#DFE8F3",
            "gridwidth": 2,
            "linecolor": "#EBF0F8",
            "showbackground": true,
            "ticks": "",
            "zerolinecolor": "#EBF0F8"
           },
           "zaxis": {
            "backgroundcolor": "white",
            "gridcolor": "#DFE8F3",
            "gridwidth": 2,
            "linecolor": "#EBF0F8",
            "showbackground": true,
            "ticks": "",
            "zerolinecolor": "#EBF0F8"
           }
          },
          "shapedefaults": {
           "line": {
            "color": "#2a3f5f"
           }
          },
          "ternary": {
           "aaxis": {
            "gridcolor": "#DFE8F3",
            "linecolor": "#A2B1C6",
            "ticks": ""
           },
           "baxis": {
            "gridcolor": "#DFE8F3",
            "linecolor": "#A2B1C6",
            "ticks": ""
           },
           "bgcolor": "white",
           "caxis": {
            "gridcolor": "#DFE8F3",
            "linecolor": "#A2B1C6",
            "ticks": ""
           }
          },
          "title": {
           "x": 0.05
          },
          "xaxis": {
           "automargin": true,
           "gridcolor": "#EBF0F8",
           "linecolor": "#EBF0F8",
           "ticks": "",
           "title": {
            "standoff": 15
           },
           "zerolinecolor": "#EBF0F8",
           "zerolinewidth": 2
          },
          "yaxis": {
           "automargin": true,
           "gridcolor": "#EBF0F8",
           "linecolor": "#EBF0F8",
           "ticks": "",
           "title": {
            "standoff": 15
           },
           "zerolinecolor": "#EBF0F8",
           "zerolinewidth": 2
          }
         }
        },
        "title": {
         "text": "Convergence of Laplacian Operators (L∞ Error vs Δx)"
        },
        "xaxis": {
         "title": {
          "text": "Δx (Grid Spacing)"
         },
         "type": "log"
        },
        "yaxis": {
         "title": {
          "text": "L∞ Error"
         },
         "type": "log"
        }
       }
      },
      "image/png": "[encoded data removed]"
     },
     "metadata": {},
     "output_type": "display_data"
    }
   ],
   "source": [
    "import numpy as np\n",
    "import plotly.graph_objects as go\n",
    "\n",
    "# --- Laplacian operators ---\n",
    "def laplacian_2nd(T: np.ndarray, dx: float) -> np.ndarray:\n",
    "    return (np.roll(T, -1) - 2 * T + np.roll(T, 1)) / dx**2\n",
    "\n",
    "def laplacian_4th(T: np.ndarray, dx: float) -> np.ndarray:\n",
    "    return (-np.roll(T, 2) + 16*np.roll(T, 1) - 30*T + 16*np.roll(T, -1) - np.roll(T, -2)) / (12 * dx**2)\n",
    "\n",
    "def bilaplacian(T: np.ndarray, dx: float) -> np.ndarray:\n",
    "    return laplacian_2nd(laplacian_2nd(T, dx), dx)\n",
    "\n",
    "# --- Time stepping (Euler explicit) ---\n",
    "def run_diffusion(T0: np.ndarray, laplacian_func, dx: float, dt: float, nt: int, nu: float) -> np.ndarray:\n",
    "    T = T0.copy()\n",
    "    for _ in range(nt):\n",
    "        T += dt * nu * laplacian_func(T, dx)\n",
    "    return T\n",
    "\n",
    "# --- Initial condition ---\n",
    "def initial_condition(x: np.ndarray) -> np.ndarray:\n",
    "    return np.sin(x)\n",
    "\n",
    "# --- Simulation configuration ---\n",
    "L = 2 * np.pi\n",
    "nx = 100\n",
    "x = np.linspace(0, L, nx, endpoint=False)\n",
    "dx = L / nx\n",
    "dt = 1e-20\n",
    "nt = 5000\n",
    "nu = 1000\n",
    "\n",
    "# --- Run simulations ---\n",
    "T0 = initial_condition(x)\n",
    "results = {\n",
    "    \"2nd-order Laplacian\": run_diffusion(T0, laplacian_2nd, dx, dt, nt, nu),\n",
    "    \"4th-order Laplacian\": run_diffusion(T0, laplacian_4th, dx, dt, nt, nu),\n",
    "    \"Bilaplacian\": run_diffusion(T0, bilaplacian, dx, dt, nt, nu)\n",
    "}\n",
    "\n",
    "# --- Interactive Plotly figure ---\n",
    "fig = go.Figure()\n",
    "fig.add_trace(go.Scatter(x=x, y=T0, mode='lines', name='Initial Condition', line=dict(dash='dash', color='gray')))\n",
    "\n",
    "for name, T in results.items():\n",
    "    fig.add_trace(go.Scatter(x=x, y=T, mode='lines', name=name))\n",
    "\n",
    "fig.update_layout(\n",
    "    title=\"Diffusion Equation: Comparison of Laplacian Operators\",\n",
    "    xaxis_title=\"x\",\n",
    "    yaxis_title=\"T(x)\",\n",
    "    legend_title=\"Scheme\",\n",
    "    template=\"plotly_white\"\n",
    ")\n",
    "fig.show()\n",
    "\n",
    "# --- Convergence study with L∞ error, now returns dx instead of number of points ---\n",
    "def convergence_study_linf(laplacian_func, reference_nx=2048):\n",
    "    resolutions = [32, 64, 128, 256, 512, 1024]\n",
    "    errors = []\n",
    "\n",
    "    # High-resolution reference\n",
    "    x_ref = np.linspace(0, L, reference_nx, endpoint=False)\n",
    "    dx_ref = L / reference_nx\n",
    "    T0_ref = initial_condition(x_ref)\n",
    "    T_ref = run_diffusion(T0_ref, laplacian_func, dx_ref, dt, nt, nu)\n",
    "\n",
    "    for nx_coarse in resolutions:\n",
    "        x_c = np.linspace(0, L, nx_coarse, endpoint=False)\n",
    "        dx_c = L / nx_coarse\n",
    "        T0_c = initial_condition(x_c)\n",
    "        T_c = run_diffusion(T0_c, laplacian_func, dx_c, dt, nt, nu)\n",
    "\n",
    "        # Interpolate coarse result to fine grid\n",
    "        T_c_interp = np.interp(x_ref, x_c, T_c)\n",
    "        error = np.max(np.abs(T_ref - T_c_interp))\n",
    "        errors.append(error)\n",
    "\n",
    "    dx_values = [L / nx for nx in resolutions]\n",
    "    return dx_values, errors\n",
    "\n",
    "# --- Compute convergence data ---\n",
    "dx_2nd, err_2nd = convergence_study_linf(laplacian_2nd)\n",
    "dx_4th, err_4th = convergence_study_linf(laplacian_4th)\n",
    "dx_bilap, err_bilap = convergence_study_linf(bilaplacian)\n",
    "\n",
    "# --- Plot convergence with respect to dx ---\n",
    "fig_conv_linf = go.Figure()\n",
    "fig_conv_linf.add_trace(go.Scatter(x=dx_2nd, y=err_2nd, mode='markers+lines', name='2nd-order'))\n",
    "fig_conv_linf.add_trace(go.Scatter(x=dx_4th, y=err_4th, mode='markers+lines', name='4th-order'))\n",
    "fig_conv_linf.add_trace(go.Scatter(x=dx_bilap, y=err_bilap, mode='markers+lines', name='Bilaplacian'))\n",
    "\n",
    "# Reference slopes for visualization (choose a reference dx range)\n",
    "ref_dx = np.array(dx_2nd)\n",
    "# Scale factors chosen so lines align visually with data range\n",
    "scale_1 = err_2nd[0] / (ref_dx[0] ** 1)\n",
    "scale_2 = err_2nd[0] / (ref_dx[0] ** 2)\n",
    "scale_3 = err_2nd[0] / (ref_dx[0] ** 3)\n",
    "\n",
    "fig_conv_linf.add_trace(go.Scatter(\n",
    "    x=ref_dx, y=scale_1 * ref_dx ** 1,\n",
    "    mode='lines', name='1st order',\n",
    "    line=dict(dash='dash', color='gray')\n",
    "))\n",
    "fig_conv_linf.add_trace(go.Scatter(\n",
    "    x=ref_dx, y=scale_2 * ref_dx ** 2,\n",
    "    mode='lines', name='2nd order',\n",
    "    line=dict(dash='dot', color='gray')\n",
    "))\n",
    "fig_conv_linf.add_trace(go.Scatter(\n",
    "    x=ref_dx, y=scale_3 * ref_dx ** 3,\n",
    "    mode='lines', name='3rd order',\n",
    "    line=dict(dash='dashdot', color='gray')\n",
    "))\n",
    "\n",
    "fig_conv_linf.update_layout(\n",
    "    title=\"Convergence of Laplacian Operators (L∞ Error vs Δx)\",\n",
    "    xaxis=dict(title=\"Δx (Grid Spacing)\", type=\"log\"),\n",
    "    yaxis=dict(title=\"L∞ Error\", type=\"log\"),\n",
    "    legend_title=\"Operator\",\n",
    "    template=\"plotly_white\"\n",
    ")\n",
    "fig_conv_linf.show()"
   ]
  },
  {
   "cell_type": "code",
   "execution_count": null,
   "id": "6179b38f-0335-4e34-af80-dbffbaf25cef",
   "metadata": {},
   "outputs": [],
   "source": []
  }
 ],
 "metadata": {
  "kernelspec": {
   "display_name": "Python (ocean)",
   "language": "python",
   "name": "ocean"
  },
  "language_info": {
   "codemirror_mode": {
    "name": "ipython",
    "version": 3
   },
   "file_extension": ".py",
   "mimetype": "text/x-python",
   "name": "python",
   "nbconvert_exporter": "python",
   "pygments_lexer": "ipython3",
   "version": "3.10.13"
  }
 },
 "nbformat": 4,
 "nbformat_minor": 5
}

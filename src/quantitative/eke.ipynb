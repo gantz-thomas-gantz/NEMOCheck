{
 "cells": [
  {
   "cell_type": "markdown",
   "id": "a8219527-9222-4bae-99a9-30d4fb97c645",
   "metadata": {},
   "source": [
    "# EKE\n",
    "\n",
    "**GOAL:**  \n",
    "The code evaluates and ranks multiple model configurations based on their **SST** and **SSS RMSE within eddy-active regions**, where eddies are defined by an **EKE threshold**. It applies an eddy mask, computes RMSEs against observations, and prints rankings to identify the best-performing configurations in those regions.\n",
    "\n",
    "\n",
    "---"
   ]
  },
  {
   "cell_type": "markdown",
   "id": "c9fd62f6-a698-46f4-8467-0ae396faf9b2",
   "metadata": {},
   "source": [
    "## Imports"
   ]
  },
  {
   "cell_type": "code",
   "execution_count": null,
   "id": "eb4d10fd-eccf-4ff6-b1ae-aaa2567351ab",
   "metadata": {},
   "outputs": [],
   "source": [
    "import xarray as xr\n",
    "import numpy as np\n",
    "import matplotlib.pyplot as plt\n",
    "import cartopy.crs as ccrs"
   ]
  },
  {
   "cell_type": "markdown",
   "id": "1bdfcc5f-e037-47dd-8be1-620561c74d33",
   "metadata": {},
   "source": [
    "## Data"
   ]
  },
  {
   "cell_type": "code",
   "execution_count": null,
   "id": "5d2c34ad-3159-4f45-954d-19edfb9d6e54",
   "metadata": {},
   "outputs": [],
   "source": [
    "model = xr.open_dataset(\"../../data/processed/model.nc\")\n",
    "model"
   ]
  },
  {
   "cell_type": "code",
   "execution_count": null,
   "id": "5f62a821-bcb5-4a45-83a1-1b2b0aa48029",
   "metadata": {},
   "outputs": [],
   "source": [
    "obs = xr.open_dataset(\"../../data/processed/combined_observations.nc\")\n",
    "obs"
   ]
  },
  {
   "cell_type": "code",
   "execution_count": null,
   "id": "922be569-b1c7-499e-9502-a30a30d9b95a",
   "metadata": {},
   "outputs": [],
   "source": [
    "eke = xr.open_dataset(\"../../data/obs/dt_global_twosat_phy_l4_202307_vDT2021-M01.nc\")\n",
    "eke"
   ]
  },
  {
   "cell_type": "code",
   "execution_count": null,
   "id": "9c36b600-4b6c-4685-9741-14ad61f091fa",
   "metadata": {},
   "outputs": [],
   "source": [
    "# Define target regular grid (1° resolution)\n",
    "target_lat = np.linspace(-89.5, 89.5, 180)   # 180 latitudes from -89.5° to 89.5°\n",
    "target_lon = np.linspace(0.5, 359.5, 360)    # 360 longitudes from 0.5° to 359.5°\n",
    "\n",
    "# Interpolate EKE data to the target grid using nearest-neighbor method\n",
    "eke = eke.sel(\n",
    "    latitude=target_lat,\n",
    "    longitude=target_lon,\n",
    "    method=\"nearest\"\n",
    ").assign_coords(\n",
    "    latitude=target_lat,\n",
    "    longitude=target_lon\n",
    ").rename(\n",
    "    {'latitude': 'lat', 'longitude': 'lon'}\n",
    ")[\"eke\"]  # Extract the \"eke\" variable from the dataset\n",
    "\n",
    "eke  # Show the interpolated DataArray"
   ]
  },
  {
   "cell_type": "markdown",
   "id": "0ed0888f-312e-425c-a441-342e848f35a2",
   "metadata": {},
   "source": [
    "## Eddy errors"
   ]
  },
  {
   "cell_type": "code",
   "execution_count": null,
   "id": "07e47699-8122-436d-b9b4-695a6a8848a6",
   "metadata": {},
   "outputs": [],
   "source": [
    "# List of configuration identifiers to process\n",
    "cfgs = [\"00\", \"01\", \"02\", \"04\", \"05\", \"06\", \"07\", \"08\", \"09\", \"10\", \"12\", \"14\", \"15\", \"16\", \"17\"]\n",
    "\n",
    "# EKE threshold used to define eddy-active regions\n",
    "eke_thr = 2500\n",
    "\n",
    "# Print header with threshold information\n",
    "print(\"=\"*60)\n",
    "print(f\"Results for EKE threshold: {eke_thr}\")\n",
    "print(\"=\"*60)\n",
    "\n",
    "# Step 1: Create boolean mask identifying eddy regions (EKE above threshold)\n",
    "eddy_mask = eke > eke_thr\n",
    "\n",
    "# Step 2: Plot the eddy mask over a map projection\n",
    "proj = ccrs.PlateCarree()\n",
    "fig, ax = plt.subplots(subplot_kw={'projection': proj})\n",
    "im = eddy_mask.plot(ax=ax, transform=proj, cmap='viridis', add_colorbar=False)\n",
    "ax.coastlines()\n",
    "plt.colorbar(im, ax=ax, shrink=0.55)\n",
    "plt.title(f\"Eddy Mask with Coastlines (EKE > {eke_thr})\")\n",
    "plt.show()\n",
    "\n",
    "# Step 3: Compute RMSE of SST and SSS within eddy regions for each configuration\n",
    "rmse_results = { \"sst\": [], \"sss\": [] }\n",
    "\n",
    "for cfg in cfgs:\n",
    "    # Load model output for current configuration\n",
    "    ds = xr.open_dataset(f\"../../data/processed/nemo{cfg}.nc\")\n",
    "\n",
    "    for var in [\"sst\", \"sss\"]:\n",
    "        # Compute squared error and mask to eddy regions\n",
    "        error = ds[var] - obs[var]\n",
    "        rmse_eddy = np.sqrt((error.where(eddy_mask)**2).mean())\n",
    "\n",
    "        # Store RMSE along with configuration label\n",
    "        rmse_results[var].append((cfg, float(rmse_eddy.values)))\n",
    "\n",
    "    ds.close()\n",
    "\n",
    "# Step 4: Print configurations ranked by RMSE (ascending) for each variable\n",
    "for var in [\"sst\", \"sss\"]:\n",
    "    print(\"-\"*40)\n",
    "    print(f\"Ranking for {var.upper()} (eddy regions, EKE > {eke_thr}):\")\n",
    "    ranked = sorted(rmse_results[var], key=lambda x: x[1])\n",
    "    for i, (cfg, rmse) in enumerate(ranked, 1):\n",
    "        print(f\"{i}. Config {cfg}: RMSE = {rmse:.3f}\")\n",
    "    print(\"-\"*40)"
   ]
  }
 ],
 "metadata": {
  "kernelspec": {
   "display_name": "Python (ocean)",
   "language": "python",
   "name": "ocean"
  },
  "language_info": {
   "codemirror_mode": {
    "name": "ipython",
    "version": 3
   },
   "file_extension": ".py",
   "mimetype": "text/x-python",
   "name": "python",
   "nbconvert_exporter": "python",
   "pygments_lexer": "ipython3",
   "version": "3.13.5"
  }
 },
 "nbformat": 4,
 "nbformat_minor": 5
}

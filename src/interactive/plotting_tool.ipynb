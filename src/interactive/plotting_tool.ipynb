{
 "cells": [
  {
   "cell_type": "markdown",
   "id": "acb004de-d2eb-49b4-8493-25635b43bee4",
   "metadata": {},
   "source": [
    "# Plotting Tool\n",
    "\n",
    "**Goal:**  \n",
    "Visualize and compare different model configurations with respect to each other or to observations and do so interactively.\n",
    "\n",
    "**Note:**  \n",
    "The data must be in the `data` directory and processed as described in the `README`. The apps themselves are defined in the Python package `utils`.\n",
    "\n",
    "---"
   ]
  },
  {
   "cell_type": "markdown",
   "id": "25d66762-0b32-4b93-b0da-318cddf10483",
   "metadata": {},
   "source": [
    "## Imports"
   ]
  },
  {
   "cell_type": "code",
   "execution_count": null,
   "id": "16efc7b1-5d90-4129-b16a-68b4cc10c049",
   "metadata": {},
   "outputs": [
    {
     "name": "stderr",
     "output_type": "stream",
     "text": [
      "ERROR 1: PROJ: proj_create_from_database: Open of /home/thomas/.local/share/mamba/envs/nemocheck_env/share/proj failed\n"
     ]
    }
   ],
   "source": [
    "import utils.plot.model_obs.horizontal as pmoh\n",
    "import utils.plot.model_obs.profiler as pmop\n",
    "import utils.plot.model_model.vertical as pmmv\n",
    "import utils.plot.model_model.horizontal as pmmh\n",
    "from utils.plot.general import find_free_port"
   ]
  },
  {
   "cell_type": "markdown",
   "id": "59165edf-6af9-42e3-a565-a3eed8ce443b",
   "metadata": {},
   "source": [
    "## Apps"
   ]
  },
  {
   "cell_type": "code",
   "execution_count": null,
   "id": "9982fe78-83c3-4a38-b247-27fb59f4de08",
   "metadata": {},
   "outputs": [
    {
     "data": {
      "text/html": [
       "\n",
       "        <iframe\n",
       "            width=\"100%\"\n",
       "            height=\"650\"\n",
       "            src=\"http://127.0.0.1:8051/\"\n",
       "            frameborder=\"0\"\n",
       "            allowfullscreen\n",
       "            \n",
       "        ></iframe>\n",
       "        "
      ],
      "text/plain": [
       "<IPython.lib.display.IFrame at 0x7f7ddb357e00>"
      ]
     },
     "metadata": {},
     "output_type": "display_data"
    },
    {
     "data": {
      "text/html": [
       "\n",
       "        <iframe\n",
       "            width=\"100%\"\n",
       "            height=\"650\"\n",
       "            src=\"http://127.0.0.1:8053/\"\n",
       "            frameborder=\"0\"\n",
       "            allowfullscreen\n",
       "            \n",
       "        ></iframe>\n",
       "        "
      ],
      "text/plain": [
       "<IPython.lib.display.IFrame at 0x7f7ddb081450>"
      ]
     },
     "metadata": {},
     "output_type": "display_data"
    },
    {
     "data": {
      "text/html": [
       "\n",
       "        <iframe\n",
       "            width=\"100%\"\n",
       "            height=\"650\"\n",
       "            src=\"http://127.0.0.1:8054/\"\n",
       "            frameborder=\"0\"\n",
       "            allowfullscreen\n",
       "            \n",
       "        ></iframe>\n",
       "        "
      ],
      "text/plain": [
       "<IPython.lib.display.IFrame at 0x7f7ddb081090>"
      ]
     },
     "metadata": {},
     "output_type": "display_data"
    },
    {
     "data": {
      "text/html": [
       "\n",
       "        <iframe\n",
       "            width=\"100%\"\n",
       "            height=\"650\"\n",
       "            src=\"http://127.0.0.1:8055/\"\n",
       "            frameborder=\"0\"\n",
       "            allowfullscreen\n",
       "            \n",
       "        ></iframe>\n",
       "        "
      ],
      "text/plain": [
       "<IPython.lib.display.IFrame at 0x7f7ddb072780>"
      ]
     },
     "metadata": {},
     "output_type": "display_data"
    }
   ],
   "source": [
    "for app in [pmoh.app, pmop.app, pmmv.app, pmmh.app]:\n",
    "    port = find_free_port()\n",
    "    app.run(debug=True, port=port)"
   ]
  },
  {
   "cell_type": "code",
   "execution_count": null,
   "id": "074a4b67-18da-4812-ae42-84511855affd",
   "metadata": {},
   "outputs": [],
   "source": []
  }
 ],
 "metadata": {
  "kernelspec": {
   "display_name": "nemocheck_env",
   "language": "python",
   "name": "nemocheck_env"
  },
  "language_info": {
   "codemirror_mode": {
    "name": "ipython",
    "version": 3
   },
   "file_extension": ".py",
   "mimetype": "text/x-python",
   "name": "python",
   "nbconvert_exporter": "python",
   "pygments_lexer": "ipython3",
   "version": "3.13.5"
  }
 },
 "nbformat": 4,
 "nbformat_minor": 5
}

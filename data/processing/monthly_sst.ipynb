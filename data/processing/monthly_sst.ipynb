{
 "cells": [
  {
   "cell_type": "markdown",
   "id": "21f1f430",
   "metadata": {},
   "source": [
    "# Monthly SST Processing\n",
    "\n",
    "**GOAL:**  \n",
    "This notebook processes raw SST data from both **observations and NEMO model** to create monthly climatology datasets with consistent spatial resolution and time coverage (2011-2022). The processed data serves as input for quantitative analyses like **PCA** to evaluate model performance and identify climate patterns.\n",
    "\n",
    "---"
   ]
  },
  {
   "cell_type": "markdown",
   "id": "ea4a62c7-ff47-4437-8340-92076e58e29c",
   "metadata": {},
   "source": [
    "# Data Processing\n",
    "\n",
    "| Property               | observations and model                   | \n",
    "|------------------------|------------------------------------------|\n",
    "| **Content**            | `sst`                                    |\n",
    "| **Resolution**         | `1.0°`                                   |\n",
    "| **Mask**               | `Yes (NaN)`                              | \n",
    "| **Time**               | `2011-01 to 2022-12 (monthly)`           |\n",
    "| **Dimensions**         | `time`, `lat`, `lon`                     |\n",
    "| **Dimension lon/lat**  | `1D`                                     |\n",
    "| **Name time**          | `time`                                   |\n",
    "| **Longitude range**    | `0.50° to 359.50° (west to east) `       |\n",
    "| **Latitude range**     | `89.50° to -89.50°` (north to south)     |"
   ]
  },
  {
   "cell_type": "markdown",
   "id": "dd646eb6-f962-4843-856e-68f64d317124",
   "metadata": {},
   "source": [
    "## Imports"
   ]
  },
  {
   "cell_type": "code",
   "execution_count": 1,
   "id": "b2ab5768-4210-4f5a-9c94-bc0e8f06ca5a",
   "metadata": {},
   "outputs": [],
   "source": [
    "import xarray as xr\n",
    "import numpy as np\n",
    "import scipy.ndimage\n",
    "import matplotlib.pyplot as plt\n",
    "import matplotlib.colors as mcolors\n",
    "import regionmask\n",
    "import contextlib, os, sys\n",
    "import cartopy.crs as ccrs\n",
    "from utils.data.general import show_coverage_mask_model, fill_coastal_points_in_time"
   ]
  },
  {
   "cell_type": "markdown",
   "id": "26786acd-37c3-42db-90c3-83089c8e962d",
   "metadata": {},
   "source": [
    "## Processing"
   ]
  },
  {
   "cell_type": "code",
   "execution_count": 2,
   "id": "ffc76179-c168-457d-a293-8f3f2ef0870e",
   "metadata": {},
   "outputs": [],
   "source": [
    "observations = xr.open_dataset('../obs/sst.mnmean.nc')\n",
    "model = xr.open_dataset('../model/nemo00_1m_201001_202212_grid_T.nc')\n",
    "mesh = xr.open_dataset('../model/orca05l75_domain_cfg_nemov5_10m.nc')"
   ]
  },
  {
   "cell_type": "markdown",
   "id": "184ce17a-3295-46ef-bec9-f1c46c78d186",
   "metadata": {},
   "source": [
    "### Extracting SST"
   ]
  },
  {
   "cell_type": "code",
   "execution_count": 3,
   "id": "f4ab35a9-1e31-4bb9-9e9c-a0a8ec011159",
   "metadata": {},
   "outputs": [],
   "source": [
    "model = model['tos']\n",
    "observations = observations['sst']"
   ]
  },
  {
   "cell_type": "markdown",
   "id": "398a7958-8897-473b-a930-9adfda0dbbbd",
   "metadata": {},
   "source": [
    "### Renaming"
   ]
  },
  {
   "cell_type": "code",
   "execution_count": 4,
   "id": "9b76be5d-e633-42da-a18d-21006143bac8",
   "metadata": {},
   "outputs": [],
   "source": [
    "model = model.rename({\n",
    "    'nav_lon': 'lon',\n",
    "    'nav_lat': 'lat',\n",
    "    'time_counter': 'time'\n",
    "})\n",
    "\n",
    "times = model.time.values.astype('datetime64[M]')  # truncate to month start\n",
    "model['time'] = times\n",
    "model = model.assign_coords(lon=mesh['glamt'], lat=mesh['gphit'])"
   ]
  },
  {
   "cell_type": "markdown",
   "id": "8fe7e340-41cb-4f26-8113-d677afd8856f",
   "metadata": {},
   "source": [
    "### 2011 to 2022"
   ]
  },
  {
   "cell_type": "code",
   "execution_count": 5,
   "id": "67d87f67-0229-40db-b1e9-95602744f9bd",
   "metadata": {},
   "outputs": [],
   "source": [
    "observations = observations.sel(time=slice(\"2011-01\", \"2022-12\"))\n",
    "model = model.sel(time=slice(\"2011-01\", \"2022-12\"))"
   ]
  },
  {
   "cell_type": "markdown",
   "id": "db9e20f9-660c-4e55-a466-b2d80a7d20e5",
   "metadata": {},
   "source": [
    "### Filling coastal points"
   ]
  },
  {
   "cell_type": "code",
   "execution_count": 6,
   "id": "c2b8d605-2a7a-4349-9bc9-35108344e4d4",
   "metadata": {},
   "outputs": [],
   "source": [
    "land_mask = mesh['bathy_metry'] == 0\n",
    "model = model.where(~land_mask)\n",
    "filled_model = fill_coastal_points_in_time(model, 20)"
   ]
  },
  {
   "cell_type": "markdown",
   "id": "84ffe99d-339a-4123-a055-cdca646d739b",
   "metadata": {},
   "source": [
    "### Regridding (interpolation): Model -> Observations"
   ]
  },
  {
   "cell_type": "code",
   "execution_count": 7,
   "id": "d8d11dec-15cf-4963-9f77-fd90f38886f2",
   "metadata": {},
   "outputs": [],
   "source": [
    "import xesmf as xe\n",
    "\n",
    "target_grid = xr.Dataset({\n",
    "    'lon': (['lon'], np.arange(-179.5, 179.5 + 1)),  \n",
    "    'lat': (['lat'], np.arange(-89.5, 89.5 + 1))     \n",
    "})\n",
    "\n",
    "with open(os.devnull, 'w') as f, contextlib.redirect_stdout(f):\n",
    "    regridder = xe.Regridder(\n",
    "        filled_model, target_grid,\n",
    "        method='bilinear',\n",
    "        filename='../weights/weights_bilinear_monthly_sst.nc',  \n",
    "        reuse_weights=True,                  \n",
    "        ignore_degenerate=True,\n",
    "        periodic=True\n",
    "    )\n",
    "\n",
    "model_regridded = regridder(filled_model)"
   ]
  },
  {
   "cell_type": "markdown",
   "id": "3e0e7486-018e-473b-8d71-f8b7f6214b9e",
   "metadata": {},
   "source": [
    "### -180 to 180 -> 0 to 360 *and* -89.5 to 89.5 -> 89.5 to -89.5 *and* dimension ordering"
   ]
  },
  {
   "cell_type": "code",
   "execution_count": 8,
   "id": "0fcfb740-8a43-4dbb-9078-054cf29fce26",
   "metadata": {},
   "outputs": [],
   "source": [
    "model_regridded['lon'] = (model_regridded['lon'] + 360) % 360\n",
    "model_regridded = model_regridded.sortby('lon') \n",
    "model_regridded = model_regridded.sortby('lat', ascending=False)\n",
    "model_regridded = model_regridded.transpose('time', 'lat', 'lon')\n",
    "observations = observations.transpose('time', 'lat', 'lon')"
   ]
  },
  {
   "cell_type": "markdown",
   "id": "4df4b646-e164-4c09-9188-6345023382e2",
   "metadata": {},
   "source": [
    "### Masking the continents"
   ]
  },
  {
   "cell_type": "code",
   "execution_count": 9,
   "id": "7a72b07f-4690-4cfa-be42-2044a148234e",
   "metadata": {},
   "outputs": [],
   "source": [
    "land_mask = regionmask.defined_regions.natural_earth_v5_0_0.land_110.mask(observations)\n",
    "ocean_mask = land_mask.isnull()\n",
    "observations = observations.where(ocean_mask)  \n",
    "model_regridded = model_regridded.where(ocean_mask) "
   ]
  },
  {
   "cell_type": "markdown",
   "id": "29665b0a-6829-48f6-974d-df0f91c8aae7",
   "metadata": {},
   "source": [
    "### Naming coordinates and attributes"
   ]
  },
  {
   "cell_type": "code",
   "execution_count": 10,
   "id": "414b7831-5188-4d08-b4bf-9b6e2adbc147",
   "metadata": {},
   "outputs": [],
   "source": [
    "model_regridded.coords['lon'].attrs.update({\n",
    "    'long_name': 'Longitude',\n",
    "    'units': 'degrees_east',\n",
    "    'standard_name': 'longitude'\n",
    "})\n",
    "\n",
    "model_regridded.coords['lat'].attrs.update({\n",
    "    'long_name': 'Latitude',\n",
    "    'units': 'degrees_north',\n",
    "    'standard_name': 'latitude'\n",
    "})\n",
    "\n",
    "model_regridded.attrs.update({\n",
    "    'long_name': 'Monthly Mean of Sea Surface Temperature',\n",
    "    'units': 'degC',\n",
    "    'standard_name': 'sea_surface_temperature'\n",
    "})"
   ]
  },
  {
   "cell_type": "markdown",
   "id": "0ac7c330-506a-4e7f-b9cb-a7ed063e99b4",
   "metadata": {},
   "source": [
    "### Saving in a file"
   ]
  },
  {
   "cell_type": "code",
   "execution_count": 13,
   "id": "14c4c7de-8d2b-456a-98bf-4647e19bc1f8",
   "metadata": {
    "scrolled": true
   },
   "outputs": [],
   "source": [
    "model_regridded.to_netcdf('../processed/nemo00_sst_monthly_2011_2022.nc', mode='w')\n",
    "observations.to_netcdf('../processed/observations_sst_monthly_2011_2022.nc', mode='w')"
   ]
  },
  {
   "cell_type": "code",
   "execution_count": null,
   "id": "e634108d-f06d-42fe-98a3-5a7bfd6a20a5",
   "metadata": {},
   "outputs": [],
   "source": []
  }
 ],
 "metadata": {
  "kernelspec": {
   "display_name": "Python 3 (ipykernel)",
   "language": "python",
   "name": "python3"
  },
  "language_info": {
   "codemirror_mode": {
    "name": "ipython",
    "version": 3
   },
   "file_extension": ".py",
   "mimetype": "text/x-python",
   "name": "python",
   "nbconvert_exporter": "python",
   "pygments_lexer": "ipython3",
   "version": "3.10.13"
  }
 },
 "nbformat": 4,
 "nbformat_minor": 5
}

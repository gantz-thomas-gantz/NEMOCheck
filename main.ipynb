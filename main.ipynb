{
 "cells": [
  {
   "cell_type": "markdown",
   "id": "acb004de-d2eb-49b4-8493-25635b43bee4",
   "metadata": {},
   "source": [
    "# Main Checks Visualization\n",
    "\n",
    "TODO:\n",
    "- model-model: surface (performance improvements: cdo)\n",
    "- general understanding plots\n",
    "\n",
    "- data processing\n",
    "- sst, mld, salinity all in one\n",
    "\n",
    "- coastal profile\n",
    "- pca\n",
    "\n",
    "Questions:\n",
    "- climatology on same time span?"
   ]
  },
  {
   "cell_type": "markdown",
   "id": "25d66762-0b32-4b93-b0da-318cddf10483",
   "metadata": {},
   "source": [
    "## Imports"
   ]
  },
  {
   "cell_type": "code",
   "execution_count": null,
   "id": "16efc7b1-5d90-4129-b16a-68b4cc10c049",
   "metadata": {},
   "outputs": [],
   "source": [
    "import utils.plot.model_model.vertical as pmmv\n",
    "from utils.plot.general import find_free_port"
   ]
  },
  {
   "cell_type": "markdown",
   "id": "b0218f06-fc9e-4b95-ba4e-179c80f84441",
   "metadata": {},
   "source": [
    "## Model-Model"
   ]
  },
  {
   "cell_type": "code",
   "execution_count": null,
   "id": "aa3e4dfc-717c-4b51-a6dc-2c3bc32264a6",
   "metadata": {},
   "outputs": [],
   "source": [
    "port = find_free_port()\n",
    "pmmv.app.run(debug=True, port=port)"
   ]
  },
  {
   "cell_type": "code",
   "execution_count": null,
   "id": "64ba27fa-0993-41f1-afdf-ada45fdd7766",
   "metadata": {},
   "outputs": [],
   "source": []
  }
 ],
 "metadata": {
  "kernelspec": {
   "display_name": "Python (ocean)",
   "language": "python",
   "name": "ocean"
  },
  "language_info": {
   "codemirror_mode": {
    "name": "ipython",
    "version": 3
   },
   "file_extension": ".py",
   "mimetype": "text/x-python",
   "name": "python",
   "nbconvert_exporter": "python",
   "pygments_lexer": "ipython3",
   "version": "3.10.13"
  }
 },
 "nbformat": 4,
 "nbformat_minor": 5
}

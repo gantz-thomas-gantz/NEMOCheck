{
 "cells": [
  {
   "cell_type": "markdown",
   "id": "acb004de-d2eb-49b4-8493-25635b43bee4",
   "metadata": {},
   "source": [
    "# Main Checks Visualization\n",
    "\n",
    "TODO:\n",
    "\n",
    "- pca\n",
    "\n",
    "- non-interactive plots"
   ]
  },
  {
   "cell_type": "markdown",
   "id": "25d66762-0b32-4b93-b0da-318cddf10483",
   "metadata": {},
   "source": [
    "## Imports"
   ]
  },
  {
   "cell_type": "code",
   "execution_count": 1,
   "id": "16efc7b1-5d90-4129-b16a-68b4cc10c049",
   "metadata": {},
   "outputs": [],
   "source": [
    "import utils.plot.model_obs.horizontal as pmoh\n",
    "import utils.plot.model_obs.profile as pmop\n",
    "import utils.plot.model_model.vertical as pmmv\n",
    "import utils.plot.model_model.horizontal as pmmh\n",
    "from utils.plot.general import find_free_port"
   ]
  },
  {
   "cell_type": "markdown",
   "id": "59165edf-6af9-42e3-a565-a3eed8ce443b",
   "metadata": {},
   "source": [
    "## Apps"
   ]
  },
  {
   "cell_type": "code",
   "execution_count": 2,
   "id": "9982fe78-83c3-4a38-b247-27fb59f4de08",
   "metadata": {},
   "outputs": [
    {
     "data": {
      "text/html": [
       "\n",
       "        <iframe\n",
       "            width=\"100%\"\n",
       "            height=\"650\"\n",
       "            src=\"http://127.0.0.1:8050/\"\n",
       "            frameborder=\"0\"\n",
       "            allowfullscreen\n",
       "            \n",
       "        ></iframe>\n",
       "        "
      ],
      "text/plain": [
       "<IPython.lib.display.IFrame at 0x7f3f16fc1150>"
      ]
     },
     "metadata": {},
     "output_type": "display_data"
    },
    {
     "data": {
      "text/html": [
       "\n",
       "        <iframe\n",
       "            width=\"100%\"\n",
       "            height=\"650\"\n",
       "            src=\"http://127.0.0.1:8051/\"\n",
       "            frameborder=\"0\"\n",
       "            allowfullscreen\n",
       "            \n",
       "        ></iframe>\n",
       "        "
      ],
      "text/plain": [
       "<IPython.lib.display.IFrame at 0x7f3ec829d690>"
      ]
     },
     "metadata": {},
     "output_type": "display_data"
    },
    {
     "data": {
      "text/html": [
       "\n",
       "        <iframe\n",
       "            width=\"100%\"\n",
       "            height=\"650\"\n",
       "            src=\"http://127.0.0.1:8052/\"\n",
       "            frameborder=\"0\"\n",
       "            allowfullscreen\n",
       "            \n",
       "        ></iframe>\n",
       "        "
      ],
      "text/plain": [
       "<IPython.lib.display.IFrame at 0x7f3ec829e410>"
      ]
     },
     "metadata": {},
     "output_type": "display_data"
    },
    {
     "data": {
      "text/html": [
       "\n",
       "        <iframe\n",
       "            width=\"100%\"\n",
       "            height=\"650\"\n",
       "            src=\"http://127.0.0.1:8053/\"\n",
       "            frameborder=\"0\"\n",
       "            allowfullscreen\n",
       "            \n",
       "        ></iframe>\n",
       "        "
      ],
      "text/plain": [
       "<IPython.lib.display.IFrame at 0x7f3ec829f220>"
      ]
     },
     "metadata": {},
     "output_type": "display_data"
    }
   ],
   "source": [
    "for app in [pmoh.app, pmop.app, pmmv.app, pmmh.app]:\n",
    "    port = find_free_port()\n",
    "    app.run(debug=True, port=port)"
   ]
  }
 ],
 "metadata": {
  "kernelspec": {
   "display_name": "Python (ocean)",
   "language": "python",
   "name": "ocean"
  },
  "language_info": {
   "codemirror_mode": {
    "name": "ipython",
    "version": 3
   },
   "file_extension": ".py",
   "mimetype": "text/x-python",
   "name": "python",
   "nbconvert_exporter": "python",
   "pygments_lexer": "ipython3",
   "version": "3.10.13"
  }
 },
 "nbformat": 4,
 "nbformat_minor": 5
}
